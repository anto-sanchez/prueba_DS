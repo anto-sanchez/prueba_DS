{
 "cells": [
  {
   "cell_type": "markdown",
   "metadata": {},
   "source": [
    "# Prueba de Ciencia de Datos"
   ]
  },
  {
   "cell_type": "code",
   "execution_count": 1,
   "metadata": {},
   "outputs": [],
   "source": [
    "import numpy as np\n",
    "import pandas as pd\n",
    "\n",
    "import matplotlib.pyplot as plt\n",
    "from pandas.plotting import scatter_matrix\n",
    "import seaborn as sns\n",
    "\n",
    "\n",
    "from sklearn.model_selection import train_test_split\n",
    "from sklearn.metrics import mean_squared_error\n",
    "from xgboost import XGBRegressor\n",
    "\n"
   ]
  },
  {
   "cell_type": "markdown",
   "metadata": {},
   "source": [
    "## 1. Importación de datos"
   ]
  },
  {
   "cell_type": "markdown",
   "metadata": {},
   "source": [
    "### Diccionario de datos\n",
    "\n",
    "\n",
    "* **id_compra** : ID asociador de cada orden de compra \n",
    "* **id_proveedor** : ID de cada proveedor (a quien se le hace el pedido) \n",
    "* **id_empresa_facturadora** : ID de la empresa a la se emite la factura \n",
    "* **id_producto** : Asociador de cada SKU \n",
    "* **marca** : Marca del producto \n",
    "* **tamanio** : Tamaño de cada SKU \n",
    "* **cantidad** : Cantidades del producto en la linea de compra \n",
    "* **costo** : Costo de cada producto en la linea de compra \n",
    "* **monto_total_compra** : Monto total de la linea de compra (cantidad * costo) \n",
    "fecha_creacion  Fecha en que se emite el pedido al proveedor \n",
    "* **fecha_entrega** : Fecha en la que se recibio el producto \n",
    "* **dias_entrega (target)** : Numero de dias entre fecha_creacion y fecha_entrega \n",
    "* **sucursal_destino** : Almacen donde va dirigido el pedido \n",
    "* **tipo_venta** : Categorizacion del pedido: Stock: para abastecimiento bodegas propias (Retail), Calzada: venta directa al cliente (no se almacena en bodega) \n",
    "* **importado** : Determina si un producto viene del extrangero \n",
    "vendedor  Identificador del vendedor "
   ]
  },
  {
   "cell_type": "code",
   "execution_count": 2,
   "metadata": {},
   "outputs": [
    {
     "data": {
      "text/html": [
       "<div>\n",
       "<style scoped>\n",
       "    .dataframe tbody tr th:only-of-type {\n",
       "        vertical-align: middle;\n",
       "    }\n",
       "\n",
       "    .dataframe tbody tr th {\n",
       "        vertical-align: top;\n",
       "    }\n",
       "\n",
       "    .dataframe thead th {\n",
       "        text-align: right;\n",
       "    }\n",
       "</style>\n",
       "<table border=\"1\" class=\"dataframe\">\n",
       "  <thead>\n",
       "    <tr style=\"text-align: right;\">\n",
       "      <th></th>\n",
       "      <th>id_compra</th>\n",
       "      <th>id_proveedor</th>\n",
       "      <th>id_empresa_facturadora</th>\n",
       "      <th>id_producto</th>\n",
       "      <th>marca</th>\n",
       "      <th>tamanio</th>\n",
       "      <th>cantidad</th>\n",
       "      <th>costo</th>\n",
       "      <th>monto_total_compra</th>\n",
       "      <th>fecha_creacion</th>\n",
       "      <th>fecha_entrega</th>\n",
       "      <th>dias_entrega</th>\n",
       "      <th>sucursal_destino</th>\n",
       "      <th>tipo_venta</th>\n",
       "      <th>importado</th>\n",
       "      <th>vendedor</th>\n",
       "    </tr>\n",
       "  </thead>\n",
       "  <tbody>\n",
       "    <tr>\n",
       "      <th>0</th>\n",
       "      <td>052_00205977</td>\n",
       "      <td>1202</td>\n",
       "      <td>1202</td>\n",
       "      <td>7753</td>\n",
       "      <td>277</td>\n",
       "      <td>E/50 1.20X12MT (14.4M2)</td>\n",
       "      <td>950</td>\n",
       "      <td>7202</td>\n",
       "      <td>6841900</td>\n",
       "      <td>2017-10-26 14:33:58</td>\n",
       "      <td>2018-02-15 00:00:00</td>\n",
       "      <td>111</td>\n",
       "      <td>03</td>\n",
       "      <td>stock</td>\n",
       "      <td>0</td>\n",
       "      <td>9</td>\n",
       "    </tr>\n",
       "    <tr>\n",
       "      <th>1</th>\n",
       "      <td>052_00209555</td>\n",
       "      <td>318</td>\n",
       "      <td>318</td>\n",
       "      <td>2719</td>\n",
       "      <td>686</td>\n",
       "      <td>1ROLLO/100MT</td>\n",
       "      <td>7</td>\n",
       "      <td>34554</td>\n",
       "      <td>241878</td>\n",
       "      <td>2017-11-17 21:53:42</td>\n",
       "      <td>2018-01-18 00:00:00</td>\n",
       "      <td>61</td>\n",
       "      <td>02</td>\n",
       "      <td>stock</td>\n",
       "      <td>0</td>\n",
       "      <td>23</td>\n",
       "    </tr>\n",
       "    <tr>\n",
       "      <th>2</th>\n",
       "      <td>052_00210757</td>\n",
       "      <td>231</td>\n",
       "      <td>499</td>\n",
       "      <td>5307</td>\n",
       "      <td>628</td>\n",
       "      <td>700ML 28GR</td>\n",
       "      <td>40</td>\n",
       "      <td>424</td>\n",
       "      <td>16964</td>\n",
       "      <td>2017-11-24 21:30:54</td>\n",
       "      <td>2018-02-12 00:00:00</td>\n",
       "      <td>79</td>\n",
       "      <td>01</td>\n",
       "      <td>stock</td>\n",
       "      <td>0</td>\n",
       "      <td>23</td>\n",
       "    </tr>\n",
       "    <tr>\n",
       "      <th>3</th>\n",
       "      <td>052_00211183</td>\n",
       "      <td>915</td>\n",
       "      <td>915</td>\n",
       "      <td>2481</td>\n",
       "      <td>278</td>\n",
       "      <td>50X25X2.0MM</td>\n",
       "      <td>100</td>\n",
       "      <td>3792</td>\n",
       "      <td>379260</td>\n",
       "      <td>2017-11-28 18:32:13</td>\n",
       "      <td>2018-01-19 00:00:00</td>\n",
       "      <td>51</td>\n",
       "      <td>02</td>\n",
       "      <td>stock</td>\n",
       "      <td>0</td>\n",
       "      <td>22</td>\n",
       "    </tr>\n",
       "    <tr>\n",
       "      <th>4</th>\n",
       "      <td>052_00211951</td>\n",
       "      <td>1062</td>\n",
       "      <td>1062</td>\n",
       "      <td>441</td>\n",
       "      <td>715</td>\n",
       "      <td>10P</td>\n",
       "      <td>6</td>\n",
       "      <td>2340</td>\n",
       "      <td>14040</td>\n",
       "      <td>2017-12-04 12:38:02</td>\n",
       "      <td>2018-01-08 00:00:00</td>\n",
       "      <td>34</td>\n",
       "      <td>01</td>\n",
       "      <td>stock</td>\n",
       "      <td>0</td>\n",
       "      <td>9</td>\n",
       "    </tr>\n",
       "  </tbody>\n",
       "</table>\n",
       "</div>"
      ],
      "text/plain": [
       "      id_compra  id_proveedor  id_empresa_facturadora  id_producto  marca  \\\n",
       "0  052_00205977          1202                    1202         7753    277   \n",
       "1  052_00209555           318                     318         2719    686   \n",
       "2  052_00210757           231                     499         5307    628   \n",
       "3  052_00211183           915                     915         2481    278   \n",
       "4  052_00211951          1062                    1062          441    715   \n",
       "\n",
       "                   tamanio  cantidad  costo  monto_total_compra  \\\n",
       "0  E/50 1.20X12MT (14.4M2)       950   7202             6841900   \n",
       "1             1ROLLO/100MT         7  34554              241878   \n",
       "2               700ML 28GR        40    424               16964   \n",
       "3              50X25X2.0MM       100   3792              379260   \n",
       "4                      10P         6   2340               14040   \n",
       "\n",
       "        fecha_creacion        fecha_entrega  dias_entrega sucursal_destino  \\\n",
       "0  2017-10-26 14:33:58  2018-02-15 00:00:00           111               03   \n",
       "1  2017-11-17 21:53:42  2018-01-18 00:00:00            61               02   \n",
       "2  2017-11-24 21:30:54  2018-02-12 00:00:00            79               01   \n",
       "3  2017-11-28 18:32:13  2018-01-19 00:00:00            51               02   \n",
       "4  2017-12-04 12:38:02  2018-01-08 00:00:00            34               01   \n",
       "\n",
       "  tipo_venta  importado  vendedor  \n",
       "0      stock          0         9  \n",
       "1      stock          0        23  \n",
       "2      stock          0        23  \n",
       "3      stock          0        22  \n",
       "4      stock          0         9  "
      ]
     },
     "execution_count": 2,
     "metadata": {},
     "output_type": "execute_result"
    }
   ],
   "source": [
    "df = pd.read_csv('dataset_compras_proveedores.csv')\n",
    "df.head()"
   ]
  },
  {
   "cell_type": "markdown",
   "metadata": {},
   "source": [
    "## 2. Exploración de datos"
   ]
  },
  {
   "cell_type": "markdown",
   "metadata": {},
   "source": [
    "### 2.1. Calidad y distribución de datos"
   ]
  },
  {
   "cell_type": "markdown",
   "metadata": {},
   "source": [
    "Verificación de la completitud de los datos."
   ]
  },
  {
   "cell_type": "code",
   "execution_count": 3,
   "metadata": {},
   "outputs": [
    {
     "data": {
      "text/plain": [
       "id_compra                 0.000000\n",
       "id_proveedor              0.000000\n",
       "id_empresa_facturadora    0.000000\n",
       "id_producto               0.000000\n",
       "marca                     0.000000\n",
       "tamanio                   0.003604\n",
       "cantidad                  0.000000\n",
       "costo                     0.000000\n",
       "monto_total_compra        0.000000\n",
       "fecha_creacion            0.000000\n",
       "fecha_entrega             0.000000\n",
       "dias_entrega              0.000000\n",
       "sucursal_destino          0.000000\n",
       "tipo_venta                0.000000\n",
       "importado                 0.000000\n",
       "vendedor                  0.000000\n",
       "dtype: float64"
      ]
     },
     "execution_count": 3,
     "metadata": {},
     "output_type": "execute_result"
    }
   ],
   "source": [
    "df.isnull().sum()/df.shape[0]"
   ]
  },
  {
   "cell_type": "markdown",
   "metadata": {},
   "source": [
    "Tipo de variables en nuestro dataset de origen."
   ]
  },
  {
   "cell_type": "code",
   "execution_count": 4,
   "metadata": {},
   "outputs": [
    {
     "name": "stdout",
     "output_type": "stream",
     "text": [
      "Tipos de variables 0\n",
      "int64     10\n",
      "object     6\n",
      "dtype: int64\n"
     ]
    }
   ],
   "source": [
    "types = pd.DataFrame(df.dtypes)\n",
    "print(\"Tipos de variables\",types.groupby(0).size())"
   ]
  },
  {
   "cell_type": "markdown",
   "metadata": {},
   "source": [
    "Cantidad de clases contenidas en las variables de tipo 'object'."
   ]
  },
  {
   "cell_type": "code",
   "execution_count": 5,
   "metadata": {},
   "outputs": [
    {
     "name": "stdout",
     "output_type": "stream",
     "text": [
      "id_compra contiene: 108374 distinct values\n",
      "tamanio contiene: 13995 distinct values\n",
      "fecha_creacion contiene: 107976 distinct values\n",
      "fecha_entrega contiene: 835 distinct values\n",
      "sucursal_destino contiene: 6 distinct values\n",
      "tipo_venta contiene: 2 distinct values\n"
     ]
    }
   ],
   "source": [
    "types = pd.DataFrame(df.dtypes)\n",
    "categoricas = types.index[types[0] == 'O'].values\n",
    "for line in categoricas:\n",
    "    print(line +\" contiene:\",str(len(df[line].unique()))+\" distinct values\")"
   ]
  },
  {
   "cell_type": "markdown",
   "metadata": {},
   "source": [
    "**Observaciones:**\n",
    "* Las variables 'id_compra', 'tamanio' y 'fecha_creacion' tienen una cantidad demasiada alta de categorías como para proporcionarnos información por sí solas."
   ]
  },
  {
   "cell_type": "markdown",
   "metadata": {},
   "source": [
    "Estadistica de las variables en el dataset.\n",
    "Solo se centemplan estas pues las restantes son del tipo categórico."
   ]
  },
  {
   "cell_type": "code",
   "execution_count": 6,
   "metadata": {},
   "outputs": [
    {
     "data": {
      "text/html": [
       "<div>\n",
       "<style scoped>\n",
       "    .dataframe tbody tr th:only-of-type {\n",
       "        vertical-align: middle;\n",
       "    }\n",
       "\n",
       "    .dataframe tbody tr th {\n",
       "        vertical-align: top;\n",
       "    }\n",
       "\n",
       "    .dataframe thead th {\n",
       "        text-align: right;\n",
       "    }\n",
       "</style>\n",
       "<table border=\"1\" class=\"dataframe\">\n",
       "  <thead>\n",
       "    <tr style=\"text-align: right;\">\n",
       "      <th></th>\n",
       "      <th>cantidad</th>\n",
       "      <th>costo</th>\n",
       "      <th>monto_total_compra</th>\n",
       "      <th>dias_entrega</th>\n",
       "    </tr>\n",
       "  </thead>\n",
       "  <tbody>\n",
       "    <tr>\n",
       "      <th>count</th>\n",
       "      <td>359570.000000</td>\n",
       "      <td>3.595700e+05</td>\n",
       "      <td>3.595700e+05</td>\n",
       "      <td>359570.000000</td>\n",
       "    </tr>\n",
       "    <tr>\n",
       "      <th>mean</th>\n",
       "      <td>563.595225</td>\n",
       "      <td>1.450451e+04</td>\n",
       "      <td>3.021238e+05</td>\n",
       "      <td>8.715619</td>\n",
       "    </tr>\n",
       "    <tr>\n",
       "      <th>std</th>\n",
       "      <td>5225.115441</td>\n",
       "      <td>4.430539e+04</td>\n",
       "      <td>1.358796e+06</td>\n",
       "      <td>12.595190</td>\n",
       "    </tr>\n",
       "    <tr>\n",
       "      <th>min</th>\n",
       "      <td>0.000000</td>\n",
       "      <td>0.000000e+00</td>\n",
       "      <td>0.000000e+00</td>\n",
       "      <td>0.000000</td>\n",
       "    </tr>\n",
       "    <tr>\n",
       "      <th>25%</th>\n",
       "      <td>6.000000</td>\n",
       "      <td>8.910000e+02</td>\n",
       "      <td>2.550000e+04</td>\n",
       "      <td>3.000000</td>\n",
       "    </tr>\n",
       "    <tr>\n",
       "      <th>50%</th>\n",
       "      <td>20.000000</td>\n",
       "      <td>2.971000e+03</td>\n",
       "      <td>7.445100e+04</td>\n",
       "      <td>6.000000</td>\n",
       "    </tr>\n",
       "    <tr>\n",
       "      <th>75%</th>\n",
       "      <td>100.000000</td>\n",
       "      <td>1.096600e+04</td>\n",
       "      <td>2.264132e+05</td>\n",
       "      <td>10.000000</td>\n",
       "    </tr>\n",
       "    <tr>\n",
       "      <th>max</th>\n",
       "      <td>700000.000000</td>\n",
       "      <td>4.420000e+06</td>\n",
       "      <td>2.145859e+08</td>\n",
       "      <td>505.000000</td>\n",
       "    </tr>\n",
       "  </tbody>\n",
       "</table>\n",
       "</div>"
      ],
      "text/plain": [
       "            cantidad         costo  monto_total_compra   dias_entrega\n",
       "count  359570.000000  3.595700e+05        3.595700e+05  359570.000000\n",
       "mean      563.595225  1.450451e+04        3.021238e+05       8.715619\n",
       "std      5225.115441  4.430539e+04        1.358796e+06      12.595190\n",
       "min         0.000000  0.000000e+00        0.000000e+00       0.000000\n",
       "25%         6.000000  8.910000e+02        2.550000e+04       3.000000\n",
       "50%        20.000000  2.971000e+03        7.445100e+04       6.000000\n",
       "75%       100.000000  1.096600e+04        2.264132e+05      10.000000\n",
       "max    700000.000000  4.420000e+06        2.145859e+08     505.000000"
      ]
     },
     "execution_count": 6,
     "metadata": {},
     "output_type": "execute_result"
    }
   ],
   "source": [
    "describe = df[['cantidad', 'costo', 'monto_total_compra', 'dias_entrega']].describe()\n",
    "describe"
   ]
  },
  {
   "cell_type": "markdown",
   "metadata": {},
   "source": [
    "**Observaciones:**\n",
    "* Las 4 variables podría tener outliers por la firencia del valor del tercel cuartil y el malor máximo.\n",
    "* Recordemos que el 'monto_total_compra' = 'cantidad' * 'costo'"
   ]
  },
  {
   "cell_type": "code",
   "execution_count": 7,
   "metadata": {},
   "outputs": [
    {
     "data": {
      "image/png": "[encoded data removed]",
      "text/plain": [
       "<Figure size 1296x360 with 4 Axes>"
      ]
     },
     "metadata": {
      "needs_background": "light"
     },
     "output_type": "display_data"
    }
   ],
   "source": [
    "f, ((ax1, ax2, ax3, ax4)) = plt.subplots(1, 4, figsize=(18,5))\n",
    "f.tight_layout()\n",
    "ax = [ax1, ax2, ax3, ax4]\n",
    "col = ['cantidad', 'costo', 'monto_total_compra', 'dias_entrega']\n",
    "for i in range (len(ax)):\n",
    "    x_hist = df[col[i]]\n",
    "\n",
    "    ax[i].hist(x = x_hist, bins = 10)\n",
    "    ax[i].set_xlabel(col[i])\n",
    "    ax[i].set_title('Distrubution of ' + col[i] + ' values')"
   ]
  },
  {
   "cell_type": "markdown",
   "metadata": {},
   "source": [
    "**Observaciones:**\n",
    "* En efecto, las variables contienen Outliers."
   ]
  },
  {
   "cell_type": "markdown",
   "metadata": {},
   "source": [
    "Visualización de outliers en 'dias_entrega'."
   ]
  },
  {
   "cell_type": "code",
   "execution_count": 8,
   "metadata": {},
   "outputs": [
    {
     "data": {
      "image/png": "[encoded data removed]",
      "text/plain": [
       "<Figure size 360x360 with 1 Axes>"
      ]
     },
     "metadata": {
      "needs_background": "light"
     },
     "output_type": "display_data"
    }
   ],
   "source": [
    "ax = df[['dias_entrega']].boxplot(figsize = (5,5))"
   ]
  },
  {
   "cell_type": "markdown",
   "metadata": {},
   "source": [
    "#### Descubrimientos\n",
    "\n",
    "* El dataset cuenta con los valores completos.\n",
    "* El dataset cuenta con 10 variables del tipo int64, de las cuales muchas son categóricas.\n",
    "* Las variables 'cantidad', 'costo', 'monto_total_compra', 'dias_entrega' cuentan con varios outliers que podrían afectar con la modelación.\n",
    "* Las variables 'id_compra', 'tamanio' y 'fecha_creacion' tienen demasiadas categorías.\n",
    "\n",
    "\n",
    "#### Conclusiones\n",
    "* Será necesario redefinir el tipo de variable para el dataset.\n",
    "* Se contemplarán métodos para lidear los outliers de las variables antes mencionadas..\n",
    "* Se debe eliminar una de las variables 'cantidad', 'costo', 'monto_total_compra' para evitar multicolinealidad.\n",
    "* Se tienen que derivar variables de la variables origen'id_compra' y 'fecha_creacion' para poder obtener información de ellas.\n",
    "    * id_compra:\n",
    "        * Pedidos totales realizados a un proveedor.\n",
    "        * Número de productos ofrecidos por un proveedor.\n",
    "        * Número de pedidos realizados con el mismo id_compra\n",
    "        \n",
    "    * fecha_creacion:\n",
    "        * Día de la semana en la que se hace el pedido.\n",
    "        * Més en el que se hace el pedido.\n",
    "        \n",
    "* Después de la derivación podremos prescindir de las variables 'fecha_entrega', 'fecha_creacion', 'tamanio', 'id_compra', 'id_producto'"
   ]
  },
  {
   "cell_type": "markdown",
   "metadata": {},
   "source": [
    "### 2.2. Limpieza y derivación"
   ]
  },
  {
   "cell_type": "markdown",
   "metadata": {},
   "source": [
    "Los valores de los outliers serán limitados utilizanco como límite tres veces el rango intercuartílico."
   ]
  },
  {
   "cell_type": "markdown",
   "metadata": {},
   "source": [
    "Tratamiento de outliers de 'dias_entrega'."
   ]
  },
  {
   "cell_type": "code",
   "execution_count": 9,
   "metadata": {},
   "outputs": [],
   "source": [
    "limit = describe.dias_entrega['75%']+3*(describe.dias_entrega['75%']-describe.dias_entrega['25%'])\n",
    "df.loc[df['dias_entrega'] > limit, 'dias_entrega'] = limit"
   ]
  },
  {
   "cell_type": "markdown",
   "metadata": {},
   "source": [
    "Tratamiento de outliers de 'monto_total_compra'."
   ]
  },
  {
   "cell_type": "code",
   "execution_count": 10,
   "metadata": {},
   "outputs": [],
   "source": [
    "limit = describe.monto_total_compra['75%']+3*(describe.monto_total_compra['75%']-describe.monto_total_compra['25%'])\n",
    "df.loc[df['monto_total_compra'] > limit, 'monto_total_compra'] = limit"
   ]
  },
  {
   "cell_type": "markdown",
   "metadata": {},
   "source": [
    "Tratamiento de outliers de 'cantidad'."
   ]
  },
  {
   "cell_type": "code",
   "execution_count": 11,
   "metadata": {},
   "outputs": [],
   "source": [
    "limit = describe.cantidad['75%']+3*(describe.cantidad['75%']-describe.cantidad['25%'])\n",
    "df.loc[df['cantidad'] > limit, 'cantidad'] = limit"
   ]
  },
  {
   "cell_type": "markdown",
   "metadata": {},
   "source": [
    "Redefinición del tipo de variables en el dataset."
   ]
  },
  {
   "cell_type": "code",
   "execution_count": 12,
   "metadata": {},
   "outputs": [],
   "source": [
    "df[\"id_proveedor\"] = df[\"id_proveedor\"].astype('category')\n",
    "df[\"id_empresa_facturadora\"] = df[\"id_empresa_facturadora\"].astype('category')\n",
    "df[\"id_producto\"] = df[\"id_producto\"].astype('category')\n",
    "df[\"marca\"] = df[\"marca\"].astype('category')\n",
    "df[\"sucursal_destino\"] = df[\"sucursal_destino\"].astype('category')\n",
    "df[\"vendedor\"] = df[\"vendedor\"].astype('category')\n",
    "df[\"tipo_venta\"] = df[\"tipo_venta\"].astype('category')\n",
    "\n",
    "df['fecha_creacion'] = pd.to_datetime(df['fecha_creacion'])"
   ]
  },
  {
   "cell_type": "markdown",
   "metadata": {},
   "source": [
    "Derivación de las variables dependientes de los ID's."
   ]
  },
  {
   "cell_type": "code",
   "execution_count": 13,
   "metadata": {},
   "outputs": [],
   "source": [
    "counts_pedidos_totales = df.groupby(['id_proveedor'])['id_producto'].count()\n",
    "df['num_pedidos_totales'] = df.apply(lambda x : counts_pedidos_totales.loc[x.id_proveedor], axis=1)\n",
    "\n",
    "counts_productos = df.groupby(['id_proveedor'])['id_producto'].apply(lambda x: len(np.unique(x)))\n",
    "df['num_productos'] = df.apply(lambda x : counts_productos.loc[x.id_proveedor], axis=1)\n",
    "\n",
    "counts_pedidos = df.groupby(['id_compra'])['id_producto'].count()\n",
    "df['num_pedidos'] = df.apply(lambda x : counts_pedidos.loc[x.id_compra], axis=1)"
   ]
  },
  {
   "cell_type": "markdown",
   "metadata": {},
   "source": [
    "Derivación de las variables dependientes de la 'fecha_creacion'"
   ]
  },
  {
   "cell_type": "code",
   "execution_count": 14,
   "metadata": {},
   "outputs": [],
   "source": [
    "df['month'] = df.apply(lambda x : x.fecha_creacion.month, axis=1)\n",
    "df['weekday'] = df.apply(lambda x : x.fecha_creacion.isoweekday(), axis=1)"
   ]
  },
  {
   "cell_type": "code",
   "execution_count": 15,
   "metadata": {},
   "outputs": [],
   "source": [
    "df.drop(['fecha_entrega', 'fecha_creacion', 'tamanio', 'costo', \n",
    "         'id_compra', 'id_producto'], axis=1, inplace=True)"
   ]
  },
  {
   "cell_type": "markdown",
   "metadata": {},
   "source": [
    "### 2.3. Análisis de correlaciones"
   ]
  },
  {
   "cell_type": "code",
   "execution_count": 16,
   "metadata": {},
   "outputs": [
    {
     "data": {
      "image/png": "[encoded data removed]",
      "text/plain": [
       "<Figure size 1296x360 with 7 Axes>"
      ]
     },
     "metadata": {
      "needs_background": "light"
     },
     "output_type": "display_data"
    }
   ],
   "source": [
    "f, ((ax1, ax2, ax3, ax4, ax5, ax6, ax7)) = plt.subplots(1, 7, figsize=(18,5))\n",
    "f.tight_layout()\n",
    "ax = [ax1, ax2, ax3, ax4, ax5, ax6, ax7]\n",
    "weekday = df.weekday.unique()\n",
    "\n",
    "for i in range (1, len(ax)+1):\n",
    "    ax[i-1].hist(x = df.query(f'weekday == {i}')['dias_entrega'], bins = 10)\n",
    "    ax[i-1].set_xlabel('dias_entrega')\n",
    "    ax[i-1].set_ylabel('Count')\n"
   ]
  },
  {
   "cell_type": "markdown",
   "metadata": {},
   "source": [
    "Matriz de correlaciones."
   ]
  },
  {
   "cell_type": "code",
   "execution_count": 17,
   "metadata": {},
   "outputs": [
    {
     "data": {
      "image/png": "[encoded data removed]",
      "text/plain": [
       "<Figure size 842.4x595.44 with 2 Axes>"
      ]
     },
     "metadata": {},
     "output_type": "display_data"
    }
   ],
   "source": [
    "sns.set(rc={'figure.figsize':(11.7,8.27)})\n",
    "axis = sns.heatmap(df.drop(['month','weekday'], axis=1).corr(), annot=True)"
   ]
  },
  {
   "cell_type": "markdown",
   "metadata": {},
   "source": [
    "#### Descubrimientos\n",
    "\n",
    "* No se observa correlación entre los días de la semana y la variable objetivo.\n",
    "* 'num_pedidos_totales' y 'num_productos' tienen una correlación muy alta.\n",
    "\n",
    "\n",
    "#### Conclusiones\n",
    "* Podemos prescindir de la variable 'weekday'.\n",
    "* Se debe evitar la multicolinealidad generada por 'num_pedidos_totales' y 'num_productos'."
   ]
  },
  {
   "cell_type": "markdown",
   "metadata": {},
   "source": [
    "## 3. Ingeniería de Características"
   ]
  },
  {
   "cell_type": "code",
   "execution_count": 18,
   "metadata": {},
   "outputs": [],
   "source": [
    "df.drop(['weekday', 'num_productos'], axis=1, inplace=True)"
   ]
  },
  {
   "cell_type": "markdown",
   "metadata": {},
   "source": [
    "Codificación de las variables categóricas.\n",
    "\n",
    "Las variables 'id_proveedor', 'id_empresa_facturadora', 'marca' contienen demasiadas categorías por lo que no se realizará un One Hot Encoding."
   ]
  },
  {
   "cell_type": "code",
   "execution_count": 19,
   "metadata": {},
   "outputs": [],
   "source": [
    "df[\"id_proveedor\"] = df[\"id_proveedor\"].cat.codes\n",
    "df[\"id_empresa_facturadora\"] = df[\"id_empresa_facturadora\"].cat.codes\n",
    "df[\"marca\"] = df[\"marca\"].cat.codes\n",
    "df[\"tipo_venta\"] = df[\"tipo_venta\"].cat.codes"
   ]
  },
  {
   "cell_type": "code",
   "execution_count": 20,
   "metadata": {},
   "outputs": [],
   "source": [
    "list_ = ['month', 'sucursal_destino', 'vendedor']\n",
    "\n",
    "for column in list_:\n",
    "    dummies_ = pd.get_dummies(df[column], prefix = '{}'.format(column))\n",
    "    df = df.join(dummies_)    \n",
    "df.drop(list_ , axis=1, inplace=True)"
   ]
  },
  {
   "cell_type": "markdown",
   "metadata": {},
   "source": [
    "## 4. Modelación "
   ]
  },
  {
   "cell_type": "markdown",
   "metadata": {},
   "source": [
    "### 4.1. Particionado"
   ]
  },
  {
   "cell_type": "markdown",
   "metadata": {},
   "source": [
    "Asignación de la variable objetivo, las características y el particionado de la data.\n",
    "\n",
    "Se tomará el 20% de los datos como test y el resto como data de entrenamiento."
   ]
  },
  {
   "cell_type": "code",
   "execution_count": 21,
   "metadata": {},
   "outputs": [
    {
     "name": "stdout",
     "output_type": "stream",
     "text": [
      "Las dimenciones de X_train: (287656, 51)\n",
      "Las dimenciones de X_test: (71914, 51)\n"
     ]
    }
   ],
   "source": [
    "X =  df.drop(columns = ['dias_entrega'])\n",
    "y = df['dias_entrega']\n",
    "\n",
    "X_train, X_test, y_train, y_test = train_test_split(X, y, test_size=0.2, random_state=1)\n",
    "\n",
    "print(f'Las dimenciones de X_train: {X_train.shape}')\n",
    "print(f'Las dimenciones de X_test: {X_test.shape}')"
   ]
  },
  {
   "cell_type": "markdown",
   "metadata": {},
   "source": [
    "### 4.2. Entrenamiento"
   ]
  },
  {
   "cell_type": "markdown",
   "metadata": {},
   "source": [
    "Modelación con un XGBRegressor.\n",
    "\n",
    "* El algoritmo XGBRegressor es un algoritmo de ensamble, es decir, el algoritmo está compuesto por el entranamiento de multiples algoritmos simples.\n",
    "* Se trata de un algoritmo Boosting, es decir que los estimadores van entrenandose 'en serie', lo que le permite al clasificado aprender de el error del algoritmo anterior.\n",
    "* Este algortmo además nos permite realizar un análisis de importancia de características que nos ayuda a describir el fenómeno estudiado."
   ]
  },
  {
   "cell_type": "code",
   "execution_count": 22,
   "metadata": {},
   "outputs": [
    {
     "data": {
      "text/plain": [
       "XGBRegressor(base_score=0.5, booster='gbtree', colsample_bylevel=1,\n",
       "             colsample_bynode=1, colsample_bytree=0.3, gamma=0.003, gpu_id=-1,\n",
       "             importance_type='gain', interaction_constraints='',\n",
       "             learning_rate=0.1, max_delta_step=0, max_depth=10,\n",
       "             min_child_weight=1, missing=nan, monotone_constraints='()',\n",
       "             n_estimators=100, n_jobs=0, num_parallel_tree=1, random_state=0,\n",
       "             reg_alpha=0, reg_lambda=1, scale_pos_weight=1, subsample=1,\n",
       "             tree_method='exact', validate_parameters=1, verbosity=None)"
      ]
     },
     "execution_count": 22,
     "metadata": {},
     "output_type": "execute_result"
    }
   ],
   "source": [
    "model = XGBRegressor(objective ='reg:squarederror', colsample_bytree = 0.3, learning_rate = 0.1,\n",
    "                max_depth = 10, gamma = 0.003, n_estimators = 100)\n",
    "\n",
    "model.fit(X_train, y_train)"
   ]
  },
  {
   "cell_type": "markdown",
   "metadata": {},
   "source": [
    "### 4.3. Evaluación"
   ]
  },
  {
   "cell_type": "code",
   "execution_count": 23,
   "metadata": {},
   "outputs": [
    {
     "name": "stdout",
     "output_type": "stream",
     "text": [
      "MSE de training: 34.058379\n",
      "MSE de testing: 37.132889\n"
     ]
    }
   ],
   "source": [
    "y_pred = model.predict(X_train)\n",
    "mse = mean_squared_error(y_train, y_pred)\n",
    "print(\"MSE de training: %f\" % (mse))\n",
    "\n",
    "y_pred = model.predict(X_test)\n",
    "mse = mean_squared_error(y_test, y_pred)\n",
    "print(\"MSE de testing: %f\" % (mse))"
   ]
  },
  {
   "cell_type": "markdown",
   "metadata": {},
   "source": [
    "**Observaciones:**\n",
    "* Si obtenemos la raíz cuadrada de los MSE obtenemos:\n",
    "    * RMSE de training: 5.836 días\n",
    "    * RMSE de testing: 6.094 días"
   ]
  },
  {
   "cell_type": "markdown",
   "metadata": {},
   "source": [
    "Análisis de las variables más significativas para la predicción."
   ]
  },
  {
   "cell_type": "code",
   "execution_count": 24,
   "metadata": {},
   "outputs": [
    {
     "name": "stdout",
     "output_type": "stream",
     "text": [
      "id_empresa_facturadora, 0.04213258624076843\n",
      "tipo_venta, 0.07576905190944672\n",
      "num_pedidos_totales, 0.05894436687231064\n",
      "sucursal_destino_C01, 0.05318249762058258\n"
     ]
    },
    {
     "data": {
      "image/png": "[encoded data removed]",
      "text/plain": [
       "<Figure size 842.4x595.44 with 1 Axes>"
      ]
     },
     "metadata": {},
     "output_type": "display_data"
    }
   ],
   "source": [
    "fi = model.feature_importances_\n",
    "columns = list(df.drop(columns = ['dias_entrega']).columns)\n",
    "s_columns=[]\n",
    "\n",
    "for i in range(len(fi)):\n",
    "    if fi[i] > 0.04:\n",
    "        print(f'{columns[i]}, {fi[i]}')\n",
    "        s_columns.append(columns[i])\n",
    "\n",
    "        plt.bar([i for i in range(len(fi))], fi)\n",
    "plt.show()"
   ]
  },
  {
   "cell_type": "markdown",
   "metadata": {},
   "source": [
    "## 5. Conclusión\n",
    "\n",
    "El algoritmo XGBRegressor nos permitió obtener un error de aproximadamente 6 días en la predicción de los resultados. Con en análisis de la importancia de las características se podría regresar a la Ingeniería de características y hacer modificaciones pertinentes para poder utilizar modelos con un grado mayor de complejidad que nos pueden ayudar a modelar de mejor manera nuestra data."
   ]
  },
  {
   "cell_type": "code",
   "execution_count": null,
   "metadata": {},
   "outputs": [],
   "source": []
  }
 ],
 "metadata": {
  "kernelspec": {
   "display_name": "Python 3",
   "language": "python",
   "name": "python3"
  },
  "language_info": {
   "codemirror_mode": {
    "name": "ipython",
    "version": 3
   },
   "file_extension": ".py",
   "mimetype": "text/x-python",
   "name": "python",
   "nbconvert_exporter": "python",
   "pygments_lexer": "ipython3",
   "version": "3.7.4"
  }
 },
 "nbformat": 4,
 "nbformat_minor": 4
}
